{
 "cells": [
  {
   "cell_type": "code",
   "execution_count": 1,
   "metadata": {},
   "outputs": [],
   "source": [
    "import os\n",
    "import glob\n",
    "import numpy as np\n",
    "import pandas as pd"
   ]
  },
  {
   "cell_type": "code",
   "execution_count": 2,
   "metadata": {},
   "outputs": [],
   "source": [
    "relative_dir = \"./experiment_id_0\"\n",
    "out_file = \"table.csv\"\n",
    "out_rounded_file = \"table_rounded.csv\""
   ]
  },
  {
   "cell_type": "code",
   "execution_count": 3,
   "metadata": {},
   "outputs": [],
   "source": [
    "results_per_seed = glob.glob(os.path.join(relative_dir, \"*.csv\"))"
   ]
  },
  {
   "cell_type": "code",
   "execution_count": 4,
   "metadata": {},
   "outputs": [],
   "source": [
    "dfs = []\n",
    "for seed, result in enumerate(results_per_seed, 1):\n",
    "    df = pd.read_csv(result)\n",
    "    df[\"seed\"] = seed\n",
    "    dfs.append(df)"
   ]
  },
  {
   "cell_type": "code",
   "execution_count": 5,
   "metadata": {},
   "outputs": [],
   "source": [
    "dfs = pd.concat(dfs)"
   ]
  },
  {
   "cell_type": "code",
   "execution_count": 6,
   "metadata": {},
   "outputs": [],
   "source": [
    "results = dfs.groupby([\"Learner\", \"Method\"]).agg([\"mean\", \"std\"])[\"PEHE\"]"
   ]
  },
  {
   "cell_type": "code",
   "execution_count": 7,
   "metadata": {},
   "outputs": [],
   "source": [
    "results2 = results.copy().reset_index()"
   ]
  },
  {
   "cell_type": "code",
   "execution_count": 8,
   "metadata": {},
   "outputs": [],
   "source": [
    "results2 = results2.pivot(index=\"Method\", columns=\"Learner\", values=[\"mean\", \"std\"])"
   ]
  },
  {
   "cell_type": "code",
   "execution_count": 9,
   "metadata": {},
   "outputs": [],
   "source": [
    "final = pd.DataFrame(\n",
    "    index=[\"target\", \"shared_source_target\", \"radial_gan\", \"htce\"],\n",
    "    columns=pd.MultiIndex.from_tuples([\n",
    "        (\"SLearner\", \"mean\"), (\"SLearner\", \"std\"),\n",
    "        (\"TLearner\", \"mean\"), (\"TLearner\", \"std\"), \n",
    "        (\"DRLearner\", \"mean\"), (\"DRLearner\", \"std\"), \n",
    "        (\"TARNet\", \"mean\"), (\"TARNet\", \"std\"), \n",
    "    ]),\n",
    "    data=np.nan\n",
    ")"
   ]
  },
  {
   "cell_type": "code",
   "execution_count": 10,
   "metadata": {},
   "outputs": [],
   "source": [
    "for method, r in final.iterrows():\n",
    "    for learner, value in r.keys():\n",
    "        final.loc[method, (learner, value)] = results2.loc[method, (value, learner)]  # type: ignore"
   ]
  },
  {
   "cell_type": "code",
   "execution_count": 11,
   "metadata": {},
   "outputs": [
    {
     "data": {
      "text/html": [
       "<div>\n",
       "<style scoped>\n",
       "    .dataframe tbody tr th:only-of-type {\n",
       "        vertical-align: middle;\n",
       "    }\n",
       "\n",
       "    .dataframe tbody tr th {\n",
       "        vertical-align: top;\n",
       "    }\n",
       "\n",
       "    .dataframe thead tr th {\n",
       "        text-align: left;\n",
       "    }\n",
       "</style>\n",
       "<table border=\"1\" class=\"dataframe\">\n",
       "  <thead>\n",
       "    <tr>\n",
       "      <th></th>\n",
       "      <th colspan=\"2\" halign=\"left\">SLearner</th>\n",
       "      <th colspan=\"2\" halign=\"left\">TLearner</th>\n",
       "      <th colspan=\"2\" halign=\"left\">DRLearner</th>\n",
       "      <th colspan=\"2\" halign=\"left\">TARNet</th>\n",
       "    </tr>\n",
       "    <tr>\n",
       "      <th></th>\n",
       "      <th>mean</th>\n",
       "      <th>std</th>\n",
       "      <th>mean</th>\n",
       "      <th>std</th>\n",
       "      <th>mean</th>\n",
       "      <th>std</th>\n",
       "      <th>mean</th>\n",
       "      <th>std</th>\n",
       "    </tr>\n",
       "  </thead>\n",
       "  <tbody>\n",
       "    <tr>\n",
       "      <th>target</th>\n",
       "      <td>0.331720</td>\n",
       "      <td>0.135690</td>\n",
       "      <td>0.244929</td>\n",
       "      <td>0.069735</td>\n",
       "      <td>0.189652</td>\n",
       "      <td>0.094530</td>\n",
       "      <td>0.197481</td>\n",
       "      <td>0.097912</td>\n",
       "    </tr>\n",
       "    <tr>\n",
       "      <th>shared_source_target</th>\n",
       "      <td>0.471942</td>\n",
       "      <td>0.331601</td>\n",
       "      <td>0.470483</td>\n",
       "      <td>0.312629</td>\n",
       "      <td>0.451806</td>\n",
       "      <td>0.314064</td>\n",
       "      <td>0.464372</td>\n",
       "      <td>0.318526</td>\n",
       "    </tr>\n",
       "    <tr>\n",
       "      <th>radial_gan</th>\n",
       "      <td>0.209571</td>\n",
       "      <td>0.078339</td>\n",
       "      <td>0.183383</td>\n",
       "      <td>0.043781</td>\n",
       "      <td>0.156344</td>\n",
       "      <td>0.071768</td>\n",
       "      <td>0.177175</td>\n",
       "      <td>0.062531</td>\n",
       "    </tr>\n",
       "    <tr>\n",
       "      <th>htce</th>\n",
       "      <td>0.097702</td>\n",
       "      <td>0.030330</td>\n",
       "      <td>0.056987</td>\n",
       "      <td>0.023566</td>\n",
       "      <td>0.047714</td>\n",
       "      <td>0.024043</td>\n",
       "      <td>0.079990</td>\n",
       "      <td>0.033935</td>\n",
       "    </tr>\n",
       "  </tbody>\n",
       "</table>\n",
       "</div>"
      ],
      "text/plain": [
       "                      SLearner            TLearner           DRLearner  \\\n",
       "                          mean       std      mean       std      mean   \n",
       "target                0.331720  0.135690  0.244929  0.069735  0.189652   \n",
       "shared_source_target  0.471942  0.331601  0.470483  0.312629  0.451806   \n",
       "radial_gan            0.209571  0.078339  0.183383  0.043781  0.156344   \n",
       "htce                  0.097702  0.030330  0.056987  0.023566  0.047714   \n",
       "\n",
       "                                  TARNet            \n",
       "                           std      mean       std  \n",
       "target                0.094530  0.197481  0.097912  \n",
       "shared_source_target  0.314064  0.464372  0.318526  \n",
       "radial_gan            0.071768  0.177175  0.062531  \n",
       "htce                  0.024043  0.079990  0.033935  "
      ]
     },
     "metadata": {},
     "output_type": "display_data"
    }
   ],
   "source": [
    "display(final)"
   ]
  },
  {
   "cell_type": "code",
   "execution_count": 12,
   "metadata": {},
   "outputs": [
    {
     "data": {
      "text/html": [
       "<div>\n",
       "<style scoped>\n",
       "    .dataframe tbody tr th:only-of-type {\n",
       "        vertical-align: middle;\n",
       "    }\n",
       "\n",
       "    .dataframe tbody tr th {\n",
       "        vertical-align: top;\n",
       "    }\n",
       "\n",
       "    .dataframe thead tr th {\n",
       "        text-align: left;\n",
       "    }\n",
       "</style>\n",
       "<table border=\"1\" class=\"dataframe\">\n",
       "  <thead>\n",
       "    <tr>\n",
       "      <th></th>\n",
       "      <th colspan=\"2\" halign=\"left\">SLearner</th>\n",
       "      <th colspan=\"2\" halign=\"left\">TLearner</th>\n",
       "      <th colspan=\"2\" halign=\"left\">DRLearner</th>\n",
       "      <th colspan=\"2\" halign=\"left\">TARNet</th>\n",
       "    </tr>\n",
       "    <tr>\n",
       "      <th></th>\n",
       "      <th>mean</th>\n",
       "      <th>std</th>\n",
       "      <th>mean</th>\n",
       "      <th>std</th>\n",
       "      <th>mean</th>\n",
       "      <th>std</th>\n",
       "      <th>mean</th>\n",
       "      <th>std</th>\n",
       "    </tr>\n",
       "  </thead>\n",
       "  <tbody>\n",
       "    <tr>\n",
       "      <th>target</th>\n",
       "      <td>0.332</td>\n",
       "      <td>0.136</td>\n",
       "      <td>0.245</td>\n",
       "      <td>0.070</td>\n",
       "      <td>0.190</td>\n",
       "      <td>0.095</td>\n",
       "      <td>0.197</td>\n",
       "      <td>0.098</td>\n",
       "    </tr>\n",
       "    <tr>\n",
       "      <th>shared_source_target</th>\n",
       "      <td>0.472</td>\n",
       "      <td>0.332</td>\n",
       "      <td>0.470</td>\n",
       "      <td>0.313</td>\n",
       "      <td>0.452</td>\n",
       "      <td>0.314</td>\n",
       "      <td>0.464</td>\n",
       "      <td>0.319</td>\n",
       "    </tr>\n",
       "    <tr>\n",
       "      <th>radial_gan</th>\n",
       "      <td>0.210</td>\n",
       "      <td>0.078</td>\n",
       "      <td>0.183</td>\n",
       "      <td>0.044</td>\n",
       "      <td>0.156</td>\n",
       "      <td>0.072</td>\n",
       "      <td>0.177</td>\n",
       "      <td>0.063</td>\n",
       "    </tr>\n",
       "    <tr>\n",
       "      <th>htce</th>\n",
       "      <td>0.098</td>\n",
       "      <td>0.030</td>\n",
       "      <td>0.057</td>\n",
       "      <td>0.024</td>\n",
       "      <td>0.048</td>\n",
       "      <td>0.024</td>\n",
       "      <td>0.080</td>\n",
       "      <td>0.034</td>\n",
       "    </tr>\n",
       "  </tbody>\n",
       "</table>\n",
       "</div>"
      ],
      "text/plain": [
       "                     SLearner        TLearner        DRLearner        TARNet  \\\n",
       "                         mean    std     mean    std      mean    std   mean   \n",
       "target                  0.332  0.136    0.245  0.070     0.190  0.095  0.197   \n",
       "shared_source_target    0.472  0.332    0.470  0.313     0.452  0.314  0.464   \n",
       "radial_gan              0.210  0.078    0.183  0.044     0.156  0.072  0.177   \n",
       "htce                    0.098  0.030    0.057  0.024     0.048  0.024  0.080   \n",
       "\n",
       "                             \n",
       "                        std  \n",
       "target                0.098  \n",
       "shared_source_target  0.319  \n",
       "radial_gan            0.063  \n",
       "htce                  0.034  "
      ]
     },
     "metadata": {},
     "output_type": "display_data"
    }
   ],
   "source": [
    "final_rounded = final.round(decimals=3)\n",
    "display(final_rounded)"
   ]
  },
  {
   "cell_type": "code",
   "execution_count": 13,
   "metadata": {},
   "outputs": [],
   "source": [
    "final.to_csv(out_file)\n",
    "final_rounded.to_csv(out_rounded_file)"
   ]
  }
 ],
 "metadata": {
  "kernelspec": {
   "display_name": "review_py38_HTCE-learners",
   "language": "python",
   "name": "python3"
  },
  "language_info": {
   "codemirror_mode": {
    "name": "ipython",
    "version": 3
   },
   "file_extension": ".py",
   "mimetype": "text/x-python",
   "name": "python",
   "nbconvert_exporter": "python",
   "pygments_lexer": "ipython3",
   "version": "3.8.13 (default, Mar 28 2022, 11:38:47) \n[GCC 7.5.0]"
  },
  "orig_nbformat": 4,
  "vscode": {
   "interpreter": {
    "hash": "0de37e017100432ba01c6d4f5f6f30034a8a832df23a0b55e8c90e390bd06ab5"
   }
  }
 },
 "nbformat": 4,
 "nbformat_minor": 2
}
